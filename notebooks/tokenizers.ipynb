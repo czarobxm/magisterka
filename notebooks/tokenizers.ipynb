{
 "cells": [
  {
   "cell_type": "code",
   "execution_count": 2,
   "metadata": {},
   "outputs": [],
   "source": [
    "import os, sys\n",
    "sys.path.insert(1, \"/\".join(os.path.abspath('').split(\"/\")[:-1]))\n",
    "\n",
    "import torch\n",
    "from transformers import AutoTokenizer\n",
    "from tokenizers.processors import TemplateProcessing"
   ]
  },
  {
   "cell_type": "code",
   "execution_count": 3,
   "metadata": {},
   "outputs": [
    {
     "name": "stderr",
     "output_type": "stream",
     "text": [
      "/Users/cezarygolecki/projects/magisterka/.venv/lib/python3.11/site-packages/transformers/tokenization_utils_base.py:1601: FutureWarning: `clean_up_tokenization_spaces` was not set. It will be set to `True` by default. This behavior will be depracted in transformers v4.45, and will be then set to `False` by default. For more details check this issue: https://github.com/huggingface/transformers/issues/31884\n",
      "  warnings.warn(\n"
     ]
    }
   ],
   "source": [
    "tokenizer_chars = AutoTokenizer.from_pretrained(\"google/byt5-small\")\n",
    "tokenizer_words = AutoTokenizer.from_pretrained(\"gpt2\")\n",
    "\n",
    "sentences = [\"This is my thesis.\",\n",
    "             \"What is going to be about?\"]"
   ]
  },
  {
   "cell_type": "code",
   "execution_count": 9,
   "metadata": {},
   "outputs": [
    {
     "name": "stdout",
     "output_type": "stream",
     "text": [
      "[[87, 107, 108, 118, 35, 108, 118, 35, 112, 124, 35, 119, 107, 104, 118, 108, 118, 49, 1], [90, 107, 100, 119, 35, 108, 118, 35, 106, 114, 108, 113, 106, 35, 119, 114, 35, 101, 104, 35, 100, 101, 114, 120, 119, 66, 1]]\n",
      "This is my thesis.</s>\n",
      "What is going to be about?</s>\n"
     ]
    }
   ],
   "source": [
    "tokens_chars = tokenizer_chars(sentences)\n",
    "print(tokens_chars[\"input_ids\"])\n",
    "print(tokenizer_chars.decode(tokens_chars[\"input_ids\"][0]))\n",
    "print(tokenizer_chars.decode(tokens_chars[\"input_ids\"][1]))"
   ]
  },
  {
   "cell_type": "code",
   "execution_count": 13,
   "metadata": {},
   "outputs": [
    {
     "name": "stdout",
     "output_type": "stream",
     "text": [
      "[[50258, 1212, 318, 616, 21554, 13, 50257], [50258, 2061, 318, 1016, 284, 307, 546, 30, 50257]]\n",
      "[BOS]This is my thesis.[EOS]\n",
      "[BOS]What is going to be about?[EOS]\n"
     ]
    }
   ],
   "source": [
    "SPECIAL_TOKENS_DICT = {\n",
    "    \"eos_token\": \"[EOS]\",\n",
    "    \"bos_token\": \"[BOS]\",\n",
    "    \"unk_token\": \"[UNK]\",\n",
    "    \"sep_token\": \"[SEP]\",\n",
    "    \"pad_token\": \"[PAD]\",\n",
    "    \"cls_token\": \"[CLS]\",\n",
    "    \"mask_token\": \"[MASK]\",\n",
    "}\n",
    "\n",
    "tokenizer_words.add_special_tokens(SPECIAL_TOKENS_DICT)\n",
    "tokenizer_words._tokenizer.post_processor = TemplateProcessing(\n",
    "    single=tokenizer_words.bos_token + \" $A \" + tokenizer_words.eos_token,\n",
    "    special_tokens=[(tokenizer_words.eos_token, tokenizer_words.eos_token_id), (tokenizer_words.bos_token, tokenizer_words.bos_token_id)],\n",
    ")\n",
    "\n",
    "tokens_words = tokenizer_words(sentences)\n",
    "print(tokens_words[\"input_ids\"])\n",
    "print(tokenizer_words.decode(tokens_words[\"input_ids\"][0]))\n",
    "print(tokenizer_words.decode(tokens_words[\"input_ids\"][1]))\n",
    "\n"
   ]
  }
 ],
 "metadata": {
  "kernelspec": {
   "display_name": ".venv",
   "language": "python",
   "name": "python3"
  },
  "language_info": {
   "codemirror_mode": {
    "name": "ipython",
    "version": 3
   },
   "file_extension": ".py",
   "mimetype": "text/x-python",
   "name": "python",
   "nbconvert_exporter": "python",
   "pygments_lexer": "ipython3",
   "version": "3.11.7"
  },
  "orig_nbformat": 4
 },
 "nbformat": 4,
 "nbformat_minor": 2
}
