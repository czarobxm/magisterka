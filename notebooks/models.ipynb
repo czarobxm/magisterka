{
 "cells": [
  {
   "cell_type": "code",
   "execution_count": 1,
   "metadata": {},
   "outputs": [
    {
     "name": "stderr",
     "output_type": "stream",
     "text": [
      "/Users/cezarygolecki/projects/magisterka/.venv/lib/python3.11/site-packages/rotary_embedding_torch/rotary_embedding_torch.py:35: FutureWarning: `torch.cuda.amp.autocast(args...)` is deprecated. Please use `torch.amp.autocast('cuda', args...)` instead.\n",
      "  @autocast(enabled = False)\n",
      "/Users/cezarygolecki/projects/magisterka/.venv/lib/python3.11/site-packages/rotary_embedding_torch/rotary_embedding_torch.py:262: FutureWarning: `torch.cuda.amp.autocast(args...)` is deprecated. Please use `torch.amp.autocast('cuda', args...)` instead.\n",
      "  @autocast(enabled = False)\n"
     ]
    }
   ],
   "source": [
    "import os, sys\n",
    "sys.path.insert(1, \"/\".join(os.path.abspath('').split(\"/\")[:-1]))\n",
    "\n",
    "import torch\n",
    "\n",
    "from models import ClassifierTransformer, DecoderOnlyTransformer\n",
    "\n",
    "from transformer.blocks.utils import ShiftRight, DownsamplingLayer, UpsamplingLayer\n",
    "\n",
    "from transformer.layers.multi_head_attention.attention_mechanism.attn_params import CosformerParams, VanillaParams, PerformerParams"
   ]
  },
  {
   "cell_type": "code",
   "execution_count": 2,
   "metadata": {},
   "outputs": [],
   "source": [
    "def weight_model(model):\n",
    "    param_size = 0\n",
    "    for param in model.parameters():\n",
    "        param_size += param.nelement() * param.element_size()\n",
    "    buffer_size = 0\n",
    "    for buffer in model.buffers():\n",
    "        buffer_size += buffer.nelement() * buffer.element_size()\n",
    "\n",
    "    size_all_mb = (param_size + buffer_size) / 1024**2\n",
    "    print('model size: {:.3f}MB'.format(size_all_mb))"
   ]
  },
  {
   "cell_type": "markdown",
   "metadata": {},
   "source": [
    "# Decoder only"
   ]
  },
  {
   "cell_type": "code",
   "execution_count": 3,
   "metadata": {},
   "outputs": [
    {
     "name": "stdout",
     "output_type": "stream",
     "text": [
      "model size: 0.215MB\n",
      "torch.Size([8, 3, 5, 9])\n",
      "torch.Size([8, 3, 5, 9])\n",
      "torch.Size([8, 3, 5, 9])\n",
      "torch.Size([8, 3, 5, 9])\n",
      "torch.Size([8, 3, 5, 9])\n",
      "torch.Size([8, 3, 5, 9])\n"
     ]
    },
    {
     "data": {
      "text/plain": [
       "torch.Size([8, 5, 30])"
      ]
     },
     "execution_count": 3,
     "metadata": {},
     "output_type": "execute_result"
    }
   ],
   "source": [
    "batch_size, max_length, d_model = 8, 5, 27\n",
    "vocab_size = 30\n",
    "num_heads = 3\n",
    "\n",
    "device = \"cpu\"\n",
    "\n",
    "method_params = CosformerParams()\n",
    "\n",
    "model = DecoderOnlyTransformer(\n",
    "    d_model=d_model,\n",
    "    vocab_size=vocab_size,\n",
    "    structure=\"6x512\",\n",
    "    num_heads=num_heads,\n",
    "    method_params=method_params,\n",
    "    apply_rotary_pos_enc=False,\n",
    "    dropout=0.1,\n",
    "    attn_has_outproj=True,\n",
    "    act_fun=\"relu\",\n",
    "    pos_enc_type=\"learnable\",\n",
    "    device=device,\n",
    ")\n",
    "\n",
    "x = torch.randint(low=0,high=10,size=(batch_size, max_length)).to(device)\n",
    "weight_model(model)\n",
    "model(x).shape"
   ]
  },
  {
   "cell_type": "markdown",
   "metadata": {},
   "source": [
    "# ShiftRight"
   ]
  },
  {
   "cell_type": "code",
   "execution_count": 4,
   "metadata": {},
   "outputs": [
    {
     "name": "stdout",
     "output_type": "stream",
     "text": [
      "tensor([[[0.1447, 0.7891, 0.2759, 0.5191],\n",
      "         [0.6061, 0.3653, 0.2133, 0.3352],\n",
      "         [0.1933, 0.5763, 0.0270, 0.0031],\n",
      "         [0.5236, 0.0224, 0.2713, 0.4525]],\n",
      "\n",
      "        [[0.4392, 0.7575, 0.7873, 0.8863],\n",
      "         [0.5406, 0.5315, 0.5795, 0.2743],\n",
      "         [0.0926, 0.1922, 0.9510, 0.3846],\n",
      "         [0.0574, 0.1483, 0.2068, 0.1438]]])\n",
      "tensor([[[0.0000, 0.0000, 0.0000, 0.0000],\n",
      "         [0.0000, 0.0000, 0.0000, 0.0000],\n",
      "         [0.1447, 0.7891, 0.2759, 0.5191],\n",
      "         [0.6061, 0.3653, 0.2133, 0.3352]],\n",
      "\n",
      "        [[0.0000, 0.0000, 0.0000, 0.0000],\n",
      "         [0.0000, 0.0000, 0.0000, 0.0000],\n",
      "         [0.4392, 0.7575, 0.7873, 0.8863],\n",
      "         [0.5406, 0.5315, 0.5795, 0.2743]]])\n"
     ]
    }
   ],
   "source": [
    "sr = ShiftRight(2)\n",
    "x = torch.rand(2,4,4)\n",
    "print(x)\n",
    "print(sr(x))"
   ]
  },
  {
   "cell_type": "code",
   "execution_count": 5,
   "metadata": {},
   "outputs": [
    {
     "name": "stdout",
     "output_type": "stream",
     "text": [
      "tensor([[[0.7418, 0.7062, 0.9541, 0.5732],\n",
      "         [0.5811, 0.1247, 0.9714, 0.4106],\n",
      "         [0.6326, 0.7896, 0.2048, 0.3308],\n",
      "         [0.5752, 0.2586, 0.6429, 0.5329]],\n",
      "\n",
      "        [[0.4346, 0.0238, 0.2349, 0.8429],\n",
      "         [0.4130, 0.6950, 0.2370, 0.5562],\n",
      "         [0.8920, 0.3862, 0.2767, 0.8145],\n",
      "         [0.3674, 0.7929, 0.8570, 0.4274]]])\n",
      "tensor([[[ 0.3341, -0.6941, -0.8276,  0.6963],\n",
      "         [ 0.1383, -0.5178, -0.7615,  0.5409]],\n",
      "\n",
      "        [[ 0.2818, -0.2188, -0.4360,  0.4416],\n",
      "         [ 0.3419, -0.4404, -0.7808,  0.4683]]], grad_fn=<ViewBackward0>)\n"
     ]
    }
   ],
   "source": [
    "ds = DownsamplingLayer(4, 2)\n",
    "x = torch.rand(2,4,4)\n",
    "print(x)\n",
    "print(ds(x))"
   ]
  },
  {
   "cell_type": "code",
   "execution_count": 6,
   "metadata": {},
   "outputs": [
    {
     "name": "stdout",
     "output_type": "stream",
     "text": [
      "tensor([[[0.9054, 0.4136, 0.4122, 0.7331],\n",
      "         [0.4790, 0.6093, 0.5146, 0.1313],\n",
      "         [0.1505, 0.3770, 0.6415, 0.8040],\n",
      "         [0.6130, 0.8362, 0.3947, 0.3664]],\n",
      "\n",
      "        [[0.6297, 0.5365, 0.3815, 0.2813],\n",
      "         [0.8473, 0.0233, 0.5794, 0.3076],\n",
      "         [0.2159, 0.5347, 0.8286, 0.4088],\n",
      "         [0.0399, 0.3134, 0.8756, 0.2861]]])\n",
      "tensor([[[-1.3707e-01,  1.1878e-01, -4.3913e-01,  3.4336e-01],\n",
      "         [ 7.2635e-02,  8.2196e-01,  3.6462e-01,  8.3568e-01],\n",
      "         [ 4.9052e-02,  3.7318e-01, -2.8793e-01, -6.6212e-02],\n",
      "         [ 2.7756e-01,  1.0222e+00,  5.1599e-01,  4.4831e-01],\n",
      "         [-1.0623e-01, -1.0758e-02, -3.7532e-01,  2.0876e-01],\n",
      "         [-1.2667e-01,  6.7255e-01,  2.2077e-01,  5.0847e-01],\n",
      "         [ 8.9319e-02,  3.7498e-01, -3.5878e-01,  8.2826e-03],\n",
      "         [ 2.5358e-01,  1.0491e+00,  5.0260e-01,  6.3076e-01]],\n",
      "\n",
      "        [[ 1.5055e-04,  3.0380e-01, -3.2292e-01,  9.6576e-02],\n",
      "         [ 2.6433e-01,  9.3608e-01,  4.5376e-01,  6.0556e-01],\n",
      "         [-2.1672e-01,  1.4462e-01, -3.3110e-01,  2.4136e-01],\n",
      "         [ 1.5624e-01,  8.1198e-01,  4.2347e-01,  5.8897e-01],\n",
      "         [-1.9468e-02,  2.1373e-01, -3.2576e-01, -8.8249e-02],\n",
      "         [ 1.2246e-02,  9.4419e-01,  4.4014e-01,  3.1798e-01],\n",
      "         [-6.3250e-02,  1.6243e-01, -2.6848e-01, -9.1503e-02],\n",
      "         [ 6.0135e-03,  8.5085e-01,  3.9281e-01,  1.9171e-01]]],\n",
      "       grad_fn=<ViewBackward0>)\n"
     ]
    }
   ],
   "source": [
    "us = UpsamplingLayer(4, 2)\n",
    "x = torch.rand(2,4,4)\n",
    "print(x)\n",
    "print(us(x))"
   ]
  },
  {
   "cell_type": "markdown",
   "metadata": {},
   "source": [
    "# Classifier"
   ]
  },
  {
   "cell_type": "code",
   "execution_count": 7,
   "metadata": {},
   "outputs": [
    {
     "name": "stdout",
     "output_type": "stream",
     "text": [
      "model size: 0.096MB\n",
      "torch.Size([8, 9, 16, 3])\n",
      "torch.Size([8, 9, 16, 3])\n",
      "torch.Size([8, 9, 16, 3])\n"
     ]
    },
    {
     "data": {
      "text/plain": [
       "torch.Size([8, 2])"
      ]
     },
     "execution_count": 7,
     "metadata": {},
     "output_type": "execute_result"
    }
   ],
   "source": [
    "batch_size, max_length, d_model = 8, 16, 27\n",
    "vocab_size = 100\n",
    "num_heads = 9\n",
    "\n",
    "device = \"mps\"\n",
    "\n",
    "model = ClassifierTransformer(\n",
    "    d_model=d_model,\n",
    "    vocab_size=vocab_size,\n",
    "    structure=\"3x16\",\n",
    "    num_classes=2,\n",
    "    num_heads=num_heads,\n",
    "    method_params=CosformerParams(),\n",
    "    apply_rotary_pos_enc=True,\n",
    "    dropout=0.1,\n",
    "    attn_has_outproj=True,\n",
    "    act_fun=\"gelu\",\n",
    "    pos_enc_type=\"learnable\",\n",
    "    norm_before=True,\n",
    "    device=device,\n",
    ")\n",
    "\n",
    "x = torch.randint(low=0,high=100,size=(batch_size, max_length)).to(device)\n",
    "\n",
    "weight_model(model)\n",
    "model(x).shape"
   ]
  },
  {
   "cell_type": "markdown",
   "metadata": {},
   "source": [
    "# U-transformer"
   ]
  },
  {
   "cell_type": "code",
   "execution_count": 8,
   "metadata": {},
   "outputs": [
    {
     "name": "stdout",
     "output_type": "stream",
     "text": [
      "torch.Size([8, 4, 16, 16])\n",
      "torch.Size([8, 4, 16, 16])\n",
      "torch.Size([8, 4, 16, 16])\n",
      "torch.Size([8, 4, 8, 16])\n",
      "torch.Size([8, 4, 8, 16])\n",
      "torch.Size([8, 4, 8, 16])\n"
     ]
    },
    {
     "data": {
      "text/plain": [
       "torch.Size([8, 2])"
      ]
     },
     "execution_count": 8,
     "metadata": {},
     "output_type": "execute_result"
    }
   ],
   "source": [
    "batch_size, max_length, d_model = 8, 16, 64\n",
    "vocab_size = 100\n",
    "num_heads = 4\n",
    "\n",
    "model = ClassifierTransformer(\n",
    "    d_model=d_model,\n",
    "    vocab_size=vocab_size,\n",
    "    structure=\"3x64,3x32\",\n",
    "    num_classes=2,\n",
    "    num_heads=num_heads,\n",
    "    method_params=CosformerParams(),\n",
    "    apply_rotary_pos_enc=True,\n",
    "    dropout=0.1,\n",
    "    attn_has_outproj=True,\n",
    "    act_fun=\"gelu\",\n",
    "    pos_enc_type=\"learnable\",\n",
    "    norm_before=True,\n",
    "    device=\"cpu\",\n",
    ")\n",
    "\n",
    "x = torch.randint(low=0,high=100,size=(batch_size, max_length))\n",
    "\n",
    "model(x).shape"
   ]
  }
 ],
 "metadata": {
  "kernelspec": {
   "display_name": ".venv",
   "language": "python",
   "name": "python3"
  },
  "language_info": {
   "codemirror_mode": {
    "name": "ipython",
    "version": 3
   },
   "file_extension": ".py",
   "mimetype": "text/x-python",
   "name": "python",
   "nbconvert_exporter": "python",
   "pygments_lexer": "ipython3",
   "version": "3.11.7"
  },
  "orig_nbformat": 4
 },
 "nbformat": 4,
 "nbformat_minor": 2
}
