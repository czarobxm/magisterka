{
 "cells": [
  {
   "cell_type": "code",
   "execution_count": 1,
   "metadata": {},
   "outputs": [
    {
     "name": "stderr",
     "output_type": "stream",
     "text": [
      "/Users/cezarygolecki/projects/magisterka/.venv/lib/python3.11/site-packages/tqdm/auto.py:21: TqdmWarning: IProgress not found. Please update jupyter and ipywidgets. See https://ipywidgets.readthedocs.io/en/stable/user_install.html\n",
      "  from .autonotebook import tqdm as notebook_tqdm\n"
     ]
    }
   ],
   "source": [
    "import os, sys\n",
    "sys.path.insert(1, \"/\".join(os.path.abspath('').split(\"/\")[:-1]))\n",
    "\n",
    "from transformers import AutoTokenizer\n",
    "from tokenizers.processors import TemplateProcessing\n",
    "\n",
    "from data.sequence_modelling_dataset import TextGenerationDataset\n",
    "from data.classification_dataset import TextClassificationDataset\n",
    "from data.image_generation_dataset import ImageGenerationDataset"
   ]
  },
  {
   "cell_type": "markdown",
   "metadata": {},
   "source": [
    "## CIFAR10"
   ]
  },
  {
   "cell_type": "code",
   "execution_count": 2,
   "metadata": {},
   "outputs": [],
   "source": [
    "cifar10 = ImageGenerationDataset(\"cifar10\", \"train\", os.path.abspath(\"\") + \"/../datastorage/cifar10\")"
   ]
  },
  {
   "cell_type": "code",
   "execution_count": 3,
   "metadata": {},
   "outputs": [
    {
     "name": "stdout",
     "output_type": "stream",
     "text": [
      "torch.Size([3, 32, 32])\n"
     ]
    },
    {
     "data": {
      "image/png": "[encoded data removed]",
      "text/plain": [
       "<Figure size 640x480 with 1 Axes>"
      ]
     },
     "metadata": {},
     "output_type": "display_data"
    }
   ],
   "source": [
    "cifar10.show_random_img()\n"
   ]
  },
  {
   "cell_type": "markdown",
   "metadata": {},
   "source": [
    "## ENWIK8"
   ]
  },
  {
   "cell_type": "code",
   "execution_count": 2,
   "metadata": {},
   "outputs": [
    {
     "name": "stderr",
     "output_type": "stream",
     "text": [
      "/Users/cezarygolecki/projects/magisterka/.venv/lib/python3.11/site-packages/transformers/tokenization_utils_base.py:1601: FutureWarning: `clean_up_tokenization_spaces` was not set. It will be set to `True` by default. This behavior will be depracted in transformers v4.45, and will be then set to `False` by default. For more details check this issue: https://github.com/huggingface/transformers/issues/31884\n",
      "  warnings.warn(\n"
     ]
    }
   ],
   "source": [
    "tokenizer = AutoTokenizer.from_pretrained(\"google/byt5-small\")\n",
    "enwik8 = TextGenerationDataset(dataset_name=\"enwik8\", \n",
    "                               tokenizer=tokenizer, \n",
    "                               max_length=512,\n",
    "                               cache_dir=os.path.abspath(\"\") + \"/../datastorage/enwik8/\",\n",
    "                               prepare_dataset=False)"
   ]
  },
  {
   "cell_type": "code",
   "execution_count": 5,
   "metadata": {},
   "outputs": [
    {
     "name": "stdout",
     "output_type": "stream",
     "text": [
      "90000000\n",
      "256\n"
     ]
    }
   ],
   "source": [
    "print(len(enwik8))\n",
    "print(tokenizer.vocab_size)"
   ]
  },
  {
   "cell_type": "code",
   "execution_count": 6,
   "metadata": {},
   "outputs": [],
   "source": [
    "enwik8.prepare_dataset()"
   ]
  },
  {
   "cell_type": "markdown",
   "metadata": {},
   "source": [
    "## IMDB"
   ]
  },
  {
   "cell_type": "code",
   "execution_count": 2,
   "metadata": {},
   "outputs": [
    {
     "name": "stdout",
     "output_type": "stream",
     "text": [
      "['[BOS]', '[EOS]', '[UNK]', '[SEP]', '[PAD]', '[CLS]', '[MASK]']\n"
     ]
    },
    {
     "name": "stderr",
     "output_type": "stream",
     "text": [
      "/Users/cezarygolecki/projects/magisterka/.venv/lib/python3.11/site-packages/transformers/tokenization_utils_base.py:1601: FutureWarning: `clean_up_tokenization_spaces` was not set. It will be set to `True` by default. This behavior will be depracted in transformers v4.45, and will be then set to `False` by default. For more details check this issue: https://github.com/huggingface/transformers/issues/31884\n",
      "  warnings.warn(\n"
     ]
    }
   ],
   "source": [
    "from transformers import GPT2TokenizerFast\n",
    "\n",
    "SPECIAL_TOKENS_DICT = {\n",
    "    \"eos_token\": \"[EOS]\",\n",
    "    \"bos_token\": \"[BOS]\",\n",
    "    \"unk_token\": \"[UNK]\",\n",
    "    \"sep_token\": \"[SEP]\",\n",
    "    \"pad_token\": \"[PAD]\",\n",
    "    \"cls_token\": \"[CLS]\",\n",
    "    \"mask_token\": \"[MASK]\",\n",
    "}\n",
    "tokenizer = GPT2TokenizerFast.from_pretrained(\"gpt2\")\n",
    "tokenizer.add_special_tokens(SPECIAL_TOKENS_DICT)\n",
    "tokenizer._tokenizer.post_processor = TemplateProcessing(\n",
    "    single=tokenizer.bos_token + \" $A \" + tokenizer.eos_token,\n",
    "    special_tokens=[(tokenizer.eos_token, tokenizer.eos_token_id), (tokenizer.bos_token, tokenizer.bos_token_id)],\n",
    ")\n",
    "\n",
    "max_length = 512\n",
    "\n",
    "print(tokenizer.all_special_tokens)"
   ]
  },
  {
   "cell_type": "code",
   "execution_count": 4,
   "metadata": {},
   "outputs": [
    {
     "name": "stdout",
     "output_type": "stream",
     "text": [
      "tensor([50258,  8496,   284,  2221,    11,   612,   338,   523,   881,  2642,\n",
      "          290, 12361,   546,   428,  3807,   314,   716,   407,  1654,   810,\n",
      "          284,   923,    13, 16805,    11,   262,   734,  3995,   519,   274,\n",
      "          508,  2630,   428, 15671,  2848,    13,  7212,  3469,   290, 17853,\n",
      "        44348,    11,   717,   484,  3521,   470,   787,   510,   511,   523,\n",
      "           12,  7174,  9017,   329,   257,  1438,    13,  2011,  4724,   484,\n",
      "         6626,   262,  3580,    11,   326,   338,  1521,   262,  1388,  3670,\n",
      "          318, 39947,  1268, 14603,   370, 24010,    45,     6,    51,   360,\n",
      "        10008,    11,   475,   262,   886,  3159,  1139, 39837, 14603,   370,\n",
      "        24010,    45,     6,    51,   360, 10008,    13, 16126,   530,  4206,\n",
      "         1997,   546,   262,  8366,  7573,    13,  2293,   477, 28274,  1011,\n",
      "        17865,    82,   284,   366,  4598,   645,  4419,  1911, 25536,   257,\n",
      "         2415,   329,   257,  1182, 23319,   561,   307,  3177,   366, 29155,\n",
      "         1911,  8227,    11,   257,  1310,  1517,  1444,  2910,   290, 10712,\n",
      "        12336,    13,   797, 29192,   561,  4822,  1918,   329,  2365,   287,\n",
      "          262,  3425,    13,  8227,   508,  7622,   257,  8529,   670,  9234,\n",
      "           13,  1867,  3315,  1524,   750,  3941, 10428,   422,    11,  8782,\n",
      "        15154,  1677,  2257,    40,  1677, 49677,  9050,    30,  5706,   376,\n",
      "           52,    11,   393, 45878,  6374, 28495,  8808, 44999,    30,   383,\n",
      "         9234,   550,   645,  1438,    11,   326, 11316,   262,  5968,   503,\n",
      "          286,   502,    13,  8227,    11,   262, 10457, 23923,  9356,  3941,\n",
      "        18418,  1008,  1595,   470,   760,   703,   284,  1394,   257,  5827,\n",
      "        10081,   515,    30,  1439,   290,   477,   257,  9336,   286,   257,\n",
      "         3807,    11,   340,   338,  8131,  8531,   290,  7379,   963,   540,\n",
      "           11,  2845,   319,   337,  2257,    18,    42,    13,   314,  1577,\n",
      "          340,  3336, 49360, 38475,  3824,  2751,   309,  4261, 20373,    13,\n",
      "        50257, 50261, 50261, 50261, 50261, 50261, 50261, 50261, 50261, 50261,\n",
      "        50261, 50261, 50261, 50261, 50261, 50261, 50261, 50261, 50261, 50261,\n",
      "        50261, 50261, 50261, 50261, 50261, 50261, 50261, 50261, 50261, 50261,\n",
      "        50261, 50261, 50261, 50261, 50261, 50261, 50261, 50261, 50261, 50261,\n",
      "        50261, 50261, 50261, 50261, 50261, 50261, 50261, 50261, 50261, 50261,\n",
      "        50261, 50261, 50261, 50261, 50261, 50261, 50261, 50261, 50261, 50261,\n",
      "        50261, 50261, 50261, 50261, 50261, 50261, 50261, 50261, 50261, 50261,\n",
      "        50261, 50261, 50261, 50261, 50261, 50261, 50261, 50261, 50261, 50261,\n",
      "        50261, 50261, 50261, 50261, 50261, 50261, 50261, 50261, 50261, 50261,\n",
      "        50261, 50261, 50261, 50261, 50261, 50261, 50261, 50261, 50261, 50261,\n",
      "        50261, 50261, 50261, 50261, 50261, 50261, 50261, 50261, 50261, 50261,\n",
      "        50261, 50261, 50261, 50261, 50261, 50261, 50261, 50261, 50261, 50261,\n",
      "        50261, 50261, 50261, 50261, 50261, 50261, 50261, 50261, 50261, 50261,\n",
      "        50261, 50261, 50261, 50261, 50261, 50261, 50261, 50261, 50261, 50261,\n",
      "        50261, 50261, 50261, 50261, 50261, 50261, 50261, 50261, 50261, 50261,\n",
      "        50261, 50261, 50261, 50261, 50261, 50261, 50261, 50261, 50261, 50261,\n",
      "        50261, 50261, 50261, 50261, 50261, 50261, 50261, 50261, 50261, 50261,\n",
      "        50261, 50261, 50261, 50261, 50261, 50261, 50261, 50261, 50261, 50261,\n",
      "        50261, 50261, 50261, 50261, 50261, 50261, 50261, 50261, 50261, 50261,\n",
      "        50261, 50261, 50261, 50261, 50261, 50261, 50261, 50261, 50261, 50261,\n",
      "        50261, 50261, 50261, 50261, 50261, 50261, 50261, 50261, 50261, 50261,\n",
      "        50261, 50261, 50261, 50261, 50261, 50261, 50261, 50261, 50261, 50261,\n",
      "        50261, 50261, 50261, 50261, 50261, 50261, 50261, 50261, 50261, 50261,\n",
      "        50261, 50261, 50261, 50261, 50261, 50261, 50261, 50261, 50261, 50261,\n",
      "        50261, 50261, 50261, 50261, 50261, 50261, 50261, 50261, 50261, 50261,\n",
      "        50261, 50261])\n"
     ]
    }
   ],
   "source": [
    "imdb = TextClassificationDataset(\"imdb\", \n",
    "                                tokenizer=tokenizer, \n",
    "                                max_length=max_length, \n",
    "                                cache_dir=os.path.abspath(\"\") + \"/../datastorage/imdb\")\n",
    "print(imdb[0][0])"
   ]
  },
  {
   "cell_type": "code",
   "execution_count": 5,
   "metadata": {},
   "outputs": [
    {
     "data": {
      "text/plain": [
       "\"[BOS]I think this is almost all I need to say. I feel obliged to explain my actions though. I've basically never seen such an armateur production, and I mean that in all senses of the word. Although the physical camera work, boom MIC operation and other technical aspects of this film are laughable, unfortunately its not the only areas.<br /><br />Unlike some classic independent films that have been saved by their scripts great characterization and plot, this unfortunately has an awful script, awful acting and worst of all, awful annoying characters.<br /><br />It's a crime that for the every independent film that gets, distribution like Haiku Tunnel, there's a 101 other indie films that died silent deaths. I don't know who the Kornbluth brothers know at Sony, but that can be my only explanation as to how this amateur family production ever got distribution. I'm quite bemused as to why they picked this up.<br /><br />The ONLY part of this film that holds out any intrigue is its title. However, the reason for that is even a let down. I hope this review will save a few people that may be intrigued by this films title from going to watch it. I've seen a lot of films in my time, and I'm very forgiving when in the cinema, but this was too much. I'll never forget 'tunnel', for marking an important point in my life experience of cinema. Shame it's such a low point.<br /><br />[EOS][PAD][PAD][PAD][PAD][PAD][PAD][PAD][PAD][PAD][PAD][PAD][PAD][PAD][PAD][PAD][PAD][PAD][PAD][PAD][PAD][PAD][PAD][PAD][PAD][PAD][PAD][PAD][PAD][PAD][PAD][PAD][PAD][PAD][PAD][PAD][PAD][PAD][PAD][PAD][PAD][PAD][PAD][PAD][PAD][PAD][PAD][PAD][PAD][PAD][PAD][PAD][PAD][PAD][PAD][PAD][PAD][PAD][PAD][PAD][PAD][PAD][PAD][PAD][PAD][PAD][PAD][PAD][PAD][PAD][PAD][PAD][PAD][PAD][PAD][PAD][PAD][PAD][PAD][PAD][PAD][PAD][PAD][PAD][PAD][PAD][PAD][PAD][PAD][PAD][PAD][PAD][PAD][PAD][PAD][PAD][PAD][PAD][PAD][PAD][PAD][PAD][PAD][PAD][PAD][PAD][PAD][PAD][PAD][PAD][PAD][PAD][PAD][PAD][PAD][PAD][PAD][PAD][PAD][PAD][PAD][PAD][PAD][PAD][PAD][PAD][PAD][PAD][PAD][PAD][PAD][PAD][PAD][PAD][PAD][PAD][PAD][PAD][PAD][PAD][PAD][PAD][PAD][PAD][PAD][PAD][PAD][PAD][PAD][PAD][PAD][PAD][PAD][PAD][PAD][PAD][PAD][PAD][PAD][PAD][PAD][PAD][PAD][PAD][PAD][PAD][PAD][PAD][PAD][PAD][PAD][PAD][PAD][PAD][PAD][PAD][PAD][PAD][PAD][PAD][PAD][PAD][PAD][PAD][PAD][PAD][PAD][PAD][PAD][PAD][PAD][PAD][PAD][PAD][PAD][PAD][PAD][PAD][PAD][PAD][PAD][PAD][PAD][PAD][PAD]\""
      ]
     },
     "execution_count": 5,
     "metadata": {},
     "output_type": "execute_result"
    }
   ],
   "source": [
    "tokenizer.decode(imdb[1][0])"
   ]
  },
  {
   "cell_type": "markdown",
   "metadata": {},
   "source": [
    "## Wikitext103"
   ]
  },
  {
   "cell_type": "code",
   "execution_count": null,
   "metadata": {},
   "outputs": [],
   "source": [
    "from transformers import GPT2TokenizerFast\n",
    "\n",
    "SPECIAL_TOKENS_DICT = {\n",
    "    \"eos_token\": \"[EOS]\",\n",
    "    \"bos_token\": \"[BOS]\",\n",
    "    \"unk_token\": \"[UNK]\",\n",
    "    \"sep_token\": \"[SEP]\",\n",
    "    \"pad_token\": \"[PAD]\",\n",
    "    \"cls_token\": \"[CLS]\",\n",
    "    \"mask_token\": \"[MASK]\",\n",
    "}\n",
    "tokenizer = GPT2TokenizerFast.from_pretrained(\"gpt2\")\n",
    "tokenizer.add_special_tokens(SPECIAL_TOKENS_DICT)\n",
    "tokenizer._tokenizer.post_processor = TemplateProcessing(\n",
    "    single=tokenizer.bos_token + \" $A \" + tokenizer.eos_token,\n",
    "    special_tokens=[(tokenizer.eos_token, tokenizer.eos_token_id), (tokenizer.bos_token, tokenizer.bos_token_id)],\n",
    ")\n",
    "\n",
    "max_length = 512\n",
    "\n",
    "print(tokenizer.all_special_tokens)"
   ]
  },
  {
   "cell_type": "code",
   "execution_count": null,
   "metadata": {},
   "outputs": [
    {
     "data": {
      "text/plain": [
       "'= Valkyria Chronicles III =\\nSenjō no Valkyria 3: Unrecorded Chronicles (Japanese: 戦場のヴァルキュリア3, lit. Valkyria of the Battlefield 3), commonly referred to as Valkyria Chronicles III outside Japan, is a tactical role-playing video game developed by Sega and Media.Vision for the PlayStation Portable. Released in January 2011 in Japan, it is the third game in the Valkyria series. Employing the same fusion of tactical and real-time gameplay as its predecessors, the story runs parallel to the first game and follows the \"Nameless\", a penal military unit serving the nation of Gallia during the Second Europan War who perform secret black operations and are pitted against the Imperial unit \"Calamaty Raven\".\\nThe game began development in 2010, carrying over a large portion of the work done on Valkyria Chronicles II. While it retained the standard features of the series, it also underwent multiple adjustments, such as making the game more forgiving for series newcomers. Character designer Raita Honjou and composer Hitoshi Sakimoto both returned from previous entries, along with Valkyria Chronicles II director Takeshi Ozawa. A large team of writers handled the script. The game\\'s opening theme was sung by May\\'n.\\nIt met with positive sales in Japan, and was praised by both Japanese and western critics. After release, it received downloadable content, along with an expanded edition in November of that year. It was also adapted into manga and an original video animation series. Due to low sales of Valkyria Chronicles II, Valkyria Chronicles III was not localized, but a fan translation compatible with the game\\'s expanded edition was released in 2014. Media.Vision would return to the franchise with the development of Valkyria: Azure Revolution for the PlayStation 4.\\n= = Gameplay = =\\nAs with previous Valkyira Chronicles games, Valkyria Chronicles III is a tactical role-playing game where players take control of a military unit and take part in missions against enemy forces. Stories are told through comic book-like panels with animated character portraits, with characters speaking partially through voiced speech bubbles and partially through unvoiced text. The player progresses through a series of linear missions, gradually unlocked as maps that can be freely scanned through and replayed as they are unlocked. The route to each story location on the map varies depending on an individual player\\'s approach: when one option is selected, the other is sealed off to the player. Outside missions, the player characters rest in a camp, where units can be customized and character growth occurs. Alongside the main story missions are character-specific sub missions relating to different squad members. After the game\\'s completion, additional episodes are unlocked, some of them having a higher difficulty than those found in the rest of the game. There are also love simulation elements related to the game\\'s two main heroines, although they take a very minor role.\\nThe game\\'s battle system, the BliTZ system, is carried over directly from Valkyira Chronicles. During missions, players select each unit using a top-down perspective of the battlefield map: once a character is selected, the player moves the character around the battlefield in third-person. A character can only act once per-turn, but characters can be granted multiple turns at the expense of other characters\\' turns. Each character has a field and distance of movement limited by their Action Gauge. Up to nine characters can be assigned to a single mission. During gameplay, characters will call out if something happens to them, such as their health points (HP) getting low or being knocked out by enemy attacks. Each character has specific \"Potentials\", skills unique to each character. They are divided into \"Personal Potential\", which are innate skills that remain unaltered unless otherwise dictated by the story and can either help or impede a character, and \"Battle Potentials\", which are grown throughout the game and always grant boons to a character. To learn Battle Potentials, each character has a unique \"Masters Table\", a grid-based skill table that can be used to acquire and link different skills. Characters also have Special Abilities that grant them temporary boosts on the battlefield: Kurt can activate \"Direct Command\" and move around the battlefield without depleting his Action Point gauge, the character Reila can shift into her \"Valkyria Form\" and become invincible, while Imca can target multiple enemy units with her heavy weapon.\\nTroops are divided into five classes: Scouts, Shocktroopers, Engineers, Lancers and Armored Soldier. Troopers can switch classes by changing their assigned weapon. Changing class does not greatly affect the stats gained while in a previous class. With victory in battle, experience points are awarded to the squad, which are distributed into five different attributes shared by the entire squad, a feature differing from early games\\' method of distributing to different unit types.\\n= = Plot = =\\nThe game takes place during the Second Europan War. Gallian Army Squad 422, also known as \"The Nameless\", are a penal military unit composed of criminals, foreign deserters, and military offenders whose real names are erased from the records and thereon officially referred to by numbers. Ordered by the Gallian military to perform the most dangerous missions that the Regular Army and Militia will not do, they are nevertheless up to the task, exemplified by their motto, Altaha Abilia, meaning \"Always Ready.\" The three main characters are No.7 Kurt Irving, an army officer falsely accused of treason who wishes to redeem himself; Ace No.1 Imca, a female Darcsen heavy weapons specialist who seeks revenge against the Valkyria who destroyed her home; and No.13 Riela Marcellis, a seemingly jinxed young woman who is unknowingly a descendant of the Valkyria. Together with their fellow squad members, these three are tasked to fight against a mysterious Imperial unit known as Calamity Raven, consisting of mostly Darcsen soldiers.\\nAs the Nameless officially do not exist, the upper echelons of the Gallian Army exploit the concept of plausible deniability in order to send them on missions that would otherwise make Gallia lose face in the war. While at times this works to their advantage, such as a successful incursion into Imperial territory, other orders cause certain members of the 422nd great distress. One such member, Gusurg, becomes so enraged that he abandons his post and defects into the ranks of Calamity Raven, attached to the ideal of Darcsen independence proposed by their leader, Dahau. At the same time, elements within Gallian Army Command move to erase the Nameless in order to protect their own interests. Hounded by both allies and enemies, and combined with the presence of a traitor within their ranks, the 422nd desperately move to keep themselves alive while at the same time fight to help the Gallian war effort. This continues until the Nameless\\'s commanding officer, Ramsey Crowe, who had been kept under house arrest, is escorted to the capital city of Randgriz in order to present evidence exonerating the weary soldiers and expose the real traitor, the Gallian General that had accused Kurt of Treason.\\nPartly due to these events, and partly due to the major losses in manpower Gallia suffers towards the end of the war with the Empire, the Nameless are offered a formal position as a squad in the Gallian Army rather than serve as an anonymous shadow force. This is short-lived, however, as following Maximilian\\'s defeat, Dahau and Calamity Raven move to activate an ancient Valkyrian super weapon within the Empire, kept secret by their benefactor. Without the support of Maximilian or the chance to prove themselves in the war with Gallia, it is Dahau\\'s last trump card in creating a new Darcsen nation. As an armed Gallian force invading the Empire just following the two nations\\' cease-fire would certainly wreck their newfound peace, Kurt decides to once again make his squad the Nameless, asking Crowe to list himself and all under his command as killed-in-action. Now owing allegiance to none other than themselves, the 422nd confronts Dahau and destroys the Valkyrian weapon. Each member then goes their separate ways in order to begin their lives anew.\\n= = Development = =\\nConcept work for Valkyria Chronicles III began after development finished on Valkyria Chronicles II in early 2010, with full development beginning shortly after this. The director of Valkyria Chronicles II, Takeshi Ozawa, returned to that role for Valkyria Chronicles III. Development work took approximately one year. After the release of Valkyria Chronicles II, the staff took a look at both the popular response for the game and what they wanted to do next for the series. Like its predecessor, Valkyria Chronicles III was developed for PlayStation Portable: this was due to the team wanting to refine the mechanics created for Valkyria Chronicles II, and they had not come up with the \"revolutionary\" idea that would warrant a new entry for the PlayStation 3. Speaking in an interview, it was stated that the development team considered Valkyria Chronicles III to be the series\\' first true sequel: while Valkyria Chronicles II had required a large amount of trial and error during development due to the platform move, the third game gave them a chance to improve upon the best parts of Valkyria Chronicles II due to being on the same platform. In addition to Sega staff from the previous games, development work was also handled by Media.Vision. The original scenario was written Kazuki Yamanobe, while the script was written by Hiroyuki Fujii, Koichi Majima, Kishiko Miyagi, Seiki Nagakawa and Takayuki Shouji. Its story was darker and more somber than that of its predecessor.\\nThe majority of material created for previous games, such as the BLiTZ system and the design of maps, was carried over. Alongside this, improvements were made to the game\\'s graphics and some elements were expanded, such as map layouts, mission structure, and the number of playable units per mission. A part of this upgrade involved creating unique polygon models for each character\\'s body. In order to achieve this, the cooperative elements incorporated into the second game were removed, as they took up a large portion of memory space needed for the improvements. They also adjusted the difficulty settings and ease of play so they could appeal to new players while retaining the essential components of the series\\' gameplay. The newer systems were decided upon early in development. The character designs were done by Raita Honjou, who had worked on the previous Valkyria Chronicles games. When creating the Nameless Squad, Honjou was faced with the same problem he had had during the first game: the military uniforms essentially destroyed character individuality, despite him needing to create unique characters the player could identify while maintaining a sense of reality within the Valkyria Chronicles world. The main color of the Nameless was black. As with the previous Valkyria games, Valkyria Chronicles III used the CANVAS graphics engine. The anime opening was produced by Production I.G.\\n= = = Music = = =\\nThe music was composed by Hitoshi Sakimoto, who had also worked on the previous Valkyria Chronicles games. When he originally heard about the project, he thought it would be a light tone similar to other Valkyria Chronicles games, but found the themes much darker than expected. An early theme he designed around his original vision of the project was rejected. He redid the main theme about seven times through the music production due to this need to reassess the game. The main theme was initially recorded using orchestra, then Sakimoto removed elements such as the guitar and bass, then adjusted the theme using a synthesizer before redoing segments such as the guitar piece on their own before incorporating them into the theme. The rejected main theme was used as a hopeful tune that played during the game\\'s ending. The battle themes were designed around the concept of a \"modern battle\" divorced from a fantasy scenario by using modern musical instruments, constructed to create a sense of atonality. While Sakimoto was most used to working with synthesized music, he felt that he needed to incorporate live instruments such as orchestra and guitar. The guitar was played by Mitsuhiro Ohta, who also arranged several of the later tracks. The game\\'s opening theme song, \"If You Wish for...\" (もしも君が願うのなら, Moshimo Kimi ga Negauno Nara), was sung by Japanese singer May\\'n. Its theme was the reason soldiers fought, in particular their wish to protect what was precious to them rather than a sense of responsibility or duty. Its lyrics were written by Seiko Fujibayashi, who had worked on May\\'n on previous singles.\\n= = = Release = = =\\nIn September 2010, a teaser website was revealed by Sega, hinting at a new Valkyria Chronicles game. In its September issue, Famitsu listed that Senjō no Valkyria 3 would be arriving on the PlayStation Portable. Its first public appearance was at the 2010 Tokyo Game Show (TGS), where a demo was made available for journalists and attendees. During the publicity, story details were kept scant so as not to spoil too much for potential players, along with some of its content still being in flux at the time of its reveal. To promote the game and detail the story leading into the game\\'s events, an episodic Flash visual novel written by Fujii began release in January 2011. The game was released January 27, 2011. During an interview, the development team said that the game had the capacity for downloadable content (DLC), but that no plans were finalized. Multiple DLC maps, featuring additional missions and recruitable characters, were released between February and April 2011. An expanded edition of the game, Valkyria Chronicles III Extra Edition, released on November 23, 2011. Packaged and sold at a lower price than the original, Extra Edition game with seven additional episodes: three new, three chosen by staff from the game\\'s DLC, and one made available as a pre-order bonus. People who also owned the original game could transfer their save data between versions.\\nUnlike its two predecessors, Valkyria Chronicles III was not released in the west. According to Sega, this was due to poor sales of Valkyria Chronicles II and the general unpopularity of the PSP in the west. An unofficial fan translation patch began development in February 2012: players with a copy of Valkyria Chronicles III could download and apply the patch, which translated the game\\'s text into English. Compatible with the Extra Edition, the patch was released in January 2014.\\n= = Reception = =\\nOn its day of release in Japan, Valkyria Chronicles III topped both platform-exclusive and multi-platform sales charts. By early February, the game sold 102,779 units, coming in second overall to The Last Story for the Wii. By the end of the year, the game had sold just over 152,500 units.\\nFamitsu enjoyed the story, and were particularly pleased with the improvements to gameplay. Japanese gaming site Game Watch Impress, despite negatively noting its pacing and elements recycled from previous games, was generally positive about its story and characters, and found its gameplay entertaining despite off-putting difficulty spikes. 4Gamer.net writer Naohiko Misuosame, in a \"Play Test\" article based on the game\\'s PSN demo, felt that Valkyria Chronicles III provided a \"profound feeling of closure\" for the Valkyria Chronicles series. He praised its gameplay despite annoying limitations to aspects such as special abilities, and positively noted its shift in story to a tone similar to the first game.\\nPlayStation Official Magazine - UK praised the story\\'s blurring of Gallia\\'s moral standing, art style, and most points about its gameplay, positively noting the latter for both its continued quality and the tweaks to balance and content. Its one major criticism were multiple difficulty spikes, something that had affected the previous games. Heath Hindman of gaming website PlayStation Lifestyle praised the addition of non-linear elements and improvements or removal of mechanics from Valkyria Chronicles II in addition to praising the returning gameplay style of previous games. He also positively noted the story\\'s serious tone. Points criticized in the review were recycled elements, awkward cutscenes that seemed to include all characters in a scene for no good reason, pacing issues, and occasional problems with the game\\'s AI.\\nIn a preview of the TGS demo, Ryan Geddes of IGN was left excited as to where the game would go after completing the demo, along with enjoying the improved visuals over Valkyria Chronicles II. Kotaku\\'s Richard Eisenbeis was highly positive about the game, citing is story as a return to form after Valkyria Chronicles II and its gameplay being the best in the series. His main criticisms were its length and gameplay repetition, along with expressing regret that it would not be localized.\\n= = Legacy = =\\nKurt and Riela were featured in the Nintendo 3DS crossover Project X Zone, representing the Valkyria series. Media.Vision would return to the series to develop Valkyria: Azure Revolution, with Ozawa returning as director. Azure Revolution is a role-playing video game for the PlayStation 4 that forms the beginning of a new series within the Valkyria franchise.\\n= = = Adaptations = = =\\nValkyria Chronicles 3 was adapted into a two-episode original video animation series in the same year of its release. Titled Senjō no Valkyria 3: Taga Tame no Jūsō (戦場のヴァルキュリア３ 誰がための銃瘡, lit. Valkyria of the Battlefield 3: The Wound Taken for Someone\\'s Sake), it was originally released through PlayStation Network and Qriocity between April and May 2011. The initially-planned release and availability period needed to be extended due to a stoppage to PSN during the early summer of that year. It later released for DVD on June 29 and August 31, 2011, with separate \"Black\" and \"Blue\" editions being available for purchase. The anime is set during the latter half of Valkyria Chronicles III, detailing a mission by the Nameless against their Imperial rivals Calamity Raven. The anime was first announced in November 2010. It was developed by A-1 Pictures, produced by Shinji Motoyama, directed by Nobuhiro Kondō, and written by Hiroshi Ōnogi. Sakimoto\\'s music for the game was used in the anime.\\nThe anime\\'s title was inspired by the principle purpose of the Nameless: to suffer in battle for the goals of others. A subtitle attached to the project during development was \"The Road to Kubinka\", which referenced the Kubinka Tank Museum in Moscow. The game\\'s main theme was how the characters regained their sense of self when stripped of their names and identities, along with general themes focused on war and its consequences. While making the anime, the production team were told by Sega to make it as realistic as possible, with the consequence that the team did extensive research into aspects such as what happened when vehicles like tanks were overturned or damaged. Due to it being along the same timeline as the original game and its television anime adaptation, the cast of Valkyria Chronicles could make appearances, which pleased the team. The opening theme, \"Akari (Light) -Tomoshibi-\" (灯-TOMOSHIBI-), was sung by Japanese singer Faylan. The ending theme, \"Someday the Flowers of Light Will Bloom\" (いつか咲く光の花, Itsuka Saku Hikari no Hana), was sung by Minami Kuribayashi. Both songs\\' lyrics were written by their respective artists.\\nTwo manga adaptations were produced, following each of the game\\'s main female protagonists Imca and Riela. They were Senjō no Valkyria 3: Namo naki Chikai no Hana (戦場のヴァルキュリア3 名もなき誓いの花, lit. Valkyria of the Battlefield 3: The Flower of the Nameless Oath), illustrated by Naoyuki Fujisawa and eventually released in two volumes after being serialized in Dengeki Maoh between 2011 and 2012; and Senjō no Valkyria 3: -Akaki Unmei no Ikusa Otome- (戦場のヴァルキュリア3 -赤き運命の戦乙女-, lit. Valkyria of the Battlefield 3 -The Valkyrie of the Crimson Fate), illustrated by Mizuki Tsuge and eventually released in a single volume by Kadokawa Shoten in 2012.'"
      ]
     },
     "execution_count": 4,
     "metadata": {},
     "output_type": "execute_result"
    }
   ],
   "source": [
    "wiki = TextGenerationDataset(dataset_name='wikipedia', \n",
    "                                split='train', \n",
    "                                tokenizer=tokenizer,\n",
    "                                max_length=max_length,\n",
    "                                cache_dir=os.path.abspath(\"\") + \"/../datastorage/wikipedia\")\n",
    "\n",
    "wiki.data[0]"
   ]
  },
  {
   "cell_type": "code",
   "execution_count": null,
   "metadata": {},
   "outputs": [
    {
     "name": "stderr",
     "output_type": "stream",
     "text": [
      "Token indices sequence length is longer than the specified maximum sequence length for this model (4342 > 1024). Running this sequence through the model will result in indexing errors\n"
     ]
    },
    {
     "name": "stdout",
     "output_type": "stream",
     "text": [
      "Number of sentences:  29567\n",
      "Max length:  29395\n",
      "Min length:  7\n",
      "Avg length:  3836.058443535022\n",
      "Sum of lengths:  113420740\n"
     ]
    }
   ],
   "source": [
    "tokenized_sentences = wiki.tokenize()\n",
    "lengths = [len(sentence) for sentence in tokenized_sentences]\n",
    "print(\"Number of sentences: \", len(tokenized_sentences))\n",
    "print(\"Max length: \", max(lengths))\n",
    "print(\"Min length: \", min(lengths))\n",
    "print(\"Avg length: \", sum(lengths)/len(lengths))\n",
    "print(\"Sum of lengths: \", sum(lengths))"
   ]
  },
  {
   "cell_type": "code",
   "execution_count": null,
   "metadata": {},
   "outputs": [
    {
     "name": "stdout",
     "output_type": "stream",
     "text": [
      "Number of sentences:  236055\n",
      "Max length:  513\n",
      "Min length:  1\n",
      "Avg length:  480.48437864057104\n",
      "Sum of lengths:  113420740\n",
      "Number of available pad tokens:  7439420\n",
      "Sum of lengths after padding:  120860160\n"
     ]
    }
   ],
   "source": [
    "sliced_sentences = wiki.slice_sentences()\n",
    "lengths = [len(sentence) for sentence in sliced_sentences]\n",
    "print(\"Number of sentences: \", len(sliced_sentences))\n",
    "print(\"Max length: \", max(lengths))\n",
    "print(\"Min length: \", min(lengths))\n",
    "print(\"Avg length: \", sum(lengths)/len(lengths))\n",
    "print(\"Sum of lengths: \", sum(lengths))\n",
    "print(\"Number of available pad tokens: \", len(sliced_sentences)*max_length - sum(lengths))\n",
    "print(\"Sum of lengths after padding: \", len(sliced_sentences)*max_length - sum(lengths) + sum(lengths))"
   ]
  },
  {
   "cell_type": "code",
   "execution_count": null,
   "metadata": {},
   "outputs": [
    {
     "name": "stdout",
     "output_type": "stream",
     "text": [
      "Number of sentences:  236055\n",
      "Max length:  513\n",
      "Min length:  513\n",
      "Avg length:  513.0\n",
      "Sum of lengths:  121096215\n"
     ]
    }
   ],
   "source": [
    "padded_sentences = wiki.pad_sentences()\n",
    "lengths = [len(sentence) for sentence in padded_sentences]\n",
    "print(\"Number of sentences: \", len(padded_sentences))\n",
    "print(\"Max length: \", max(lengths))\n",
    "print(\"Min length: \", min(lengths))\n",
    "print(\"Avg length: \", sum(lengths)/len(lengths))\n",
    "print(\"Sum of lengths: \", sum(lengths))"
   ]
  }
 ],
 "metadata": {
  "kernelspec": {
   "display_name": ".venv",
   "language": "python",
   "name": "python3"
  },
  "language_info": {
   "codemirror_mode": {
    "name": "ipython",
    "version": 3
   },
   "file_extension": ".py",
   "mimetype": "text/x-python",
   "name": "python",
   "nbconvert_exporter": "python",
   "pygments_lexer": "ipython3",
   "version": "3.11.7"
  },
  "orig_nbformat": 4
 },
 "nbformat": 4,
 "nbformat_minor": 2
}
